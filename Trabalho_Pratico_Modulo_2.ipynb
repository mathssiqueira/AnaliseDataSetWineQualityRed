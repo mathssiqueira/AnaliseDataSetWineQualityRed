{
  "nbformat": 4,
  "nbformat_minor": 0,
  "metadata": {
    "colab": {
      "name": "Trabalho_Pratico_Modulo_2.ipynb",
      "provenance": []
    },
    "kernelspec": {
      "name": "python3",
      "display_name": "Python 3"
    }
  },
  "cells": [
    {
      "cell_type": "markdown",
      "metadata": {
        "id": "fmkvVBs9e1zo",
        "colab_type": "text"
      },
      "source": [
        "Importando Bibliotecas necessárias"
      ]
    },
    {
      "cell_type": "code",
      "metadata": {
        "id": "B4IJYLpBewM5",
        "colab_type": "code",
        "colab": {}
      },
      "source": [
        "import pandas as pd\n",
        "import numpy as np\n",
        "import seaborn as sns\n",
        "import matplotlib.pyplot as plt\n",
        "from scipy.stats import pearsonr\n",
        "from sklearn.preprocessing import MinMaxScaler\n",
        "from sklearn.model_selection import train_test_split\n",
        "from sklearn.neighbors import KNeighborsClassifier\n",
        "from sklearn.metrics import accuracy_score\n",
        "from sklearn.tree import DecisionTreeClassifier\n",
        "from sklearn.ensemble import RandomForestClassifier, RandomForestClassifier\n",
        "from sklearn.svm import SVC\n",
        "from sklearn.neural_network import MLPClassifier"
      ],
      "execution_count": 57,
      "outputs": []
    },
    {
      "cell_type": "markdown",
      "metadata": {
        "id": "1B8uSGUDfJiu",
        "colab_type": "text"
      },
      "source": [
        "Imporando arquivo para execução das análises"
      ]
    },
    {
      "cell_type": "code",
      "metadata": {
        "id": "o5dtXk4ye5lz",
        "colab_type": "code",
        "colab": {}
      },
      "source": [
        "df = pd.read_csv('winequality-red.csv', sep = ';' )\n",
        "df.head()"
      ],
      "execution_count": null,
      "outputs": []
    },
    {
      "cell_type": "markdown",
      "metadata": {
        "id": "zh7E_GrI3WWE",
        "colab_type": "text"
      },
      "source": [
        "Analisando Arquivo "
      ]
    },
    {
      "cell_type": "code",
      "metadata": {
        "id": "1594YCK83Vii",
        "colab_type": "code",
        "colab": {}
      },
      "source": [
        "#Analisando tipo de Dados\n",
        "df.info()"
      ],
      "execution_count": null,
      "outputs": []
    },
    {
      "cell_type": "code",
      "metadata": {
        "id": "IbPhO89I3Y4e",
        "colab_type": "code",
        "colab": {}
      },
      "source": [
        "#Analisando a quantidade de valores nulos\n",
        "df.isnull().sum()"
      ],
      "execution_count": null,
      "outputs": []
    },
    {
      "cell_type": "code",
      "metadata": {
        "id": "F_uIBtkn7NaZ",
        "colab_type": "code",
        "colab": {
          "base_uri": "https://localhost:8080/",
          "height": 34
        },
        "outputId": "fcfdeeb2-7d22-49a0-9613-ccb51bd129aa"
      },
      "source": [
        "#Analisando quantidade de tipos diferentes de dados\n",
        "qtd = len(df.dtypes.value_counts())\n",
        "print('Quantidade de tipos de dados diferentes:', qtd)"
      ],
      "execution_count": 8,
      "outputs": [
        {
          "output_type": "stream",
          "text": [
            "Quantidade de tipos de dados diferentes: 2\n"
          ],
          "name": "stdout"
        }
      ]
    },
    {
      "cell_type": "markdown",
      "metadata": {
        "id": "kbp_J2sR8RA5",
        "colab_type": "text"
      },
      "source": [
        "Desvio padrão contido na variável \"fixed acidity\" </br>\n",
        "Mediana para a variável \"residual sugar\"\n",
        "\n",
        "```\n",
        "# Isto está formatado como código\n",
        "```\n",
        "\n"
      ]
    },
    {
      "cell_type": "code",
      "metadata": {
        "id": "zjNzbhap8NmZ",
        "colab_type": "code",
        "colab": {}
      },
      "source": [
        "df.describe()\n",
        "print('Desvio padrão para a variável fixed-acidity:' , df['fixed acidity'].std())\n",
        "print('Valor da mediana para a variável residual-sugar:', df['residual sugar'].median())"
      ],
      "execution_count": null,
      "outputs": []
    },
    {
      "cell_type": "markdown",
      "metadata": {
        "id": "at1EaBEA-Ol9",
        "colab_type": "text"
      },
      "source": [
        "Coeficiente de correlação de Pearson entre \"fixed acidity\" e \"pH\""
      ]
    },
    {
      "cell_type": "code",
      "metadata": {
        "id": "5piwOMYk-WhI",
        "colab_type": "code",
        "colab": {}
      },
      "source": [
        "df[['fixed acidity', 'pH']].corr()"
      ],
      "execution_count": null,
      "outputs": []
    },
    {
      "cell_type": "code",
      "metadata": {
        "id": "0cZVXvMPB6a4",
        "colab_type": "code",
        "colab": {}
      },
      "source": [
        "#Calculando a correlação de Pearson\n",
        "x = df['fixed acidity']\n",
        "y = df['pH']\n",
        "sns.regplot(x, y)\n",
        "plt.xlabel('Fixed Acidity')\n",
        "plt.ylabel('pH')\n",
        "plt.show()\n"
      ],
      "execution_count": null,
      "outputs": []
    },
    {
      "cell_type": "markdown",
      "metadata": {
        "id": "fI8DGkvM1ehr",
        "colab_type": "text"
      },
      "source": [
        ""
      ]
    },
    {
      "cell_type": "code",
      "metadata": {
        "id": "jTZ7n-Ee1fxX",
        "colab_type": "code",
        "colab": {}
      },
      "source": [
        "#Calculando a correlação de Person \"quality\" e \"alcohol\"\n",
        "df[['quality', 'alcohol']].corr()"
      ],
      "execution_count": null,
      "outputs": []
    },
    {
      "cell_type": "code",
      "metadata": {
        "id": "T6rYJtxO26kD",
        "colab_type": "code",
        "colab": {}
      },
      "source": [
        "#Calculando dados\n",
        "x = df['quality']\n",
        "y = df['alcohol']\n",
        "sns.regplot(x, y)\n",
        "plt.xlabel('Quality')\n",
        "plt.ylabel('Alcohol')\n",
        "plt.show()"
      ],
      "execution_count": null,
      "outputs": []
    },
    {
      "cell_type": "markdown",
      "metadata": {
        "id": "E6GcSKqc7bso",
        "colab_type": "text"
      },
      "source": [
        ""
      ]
    },
    {
      "cell_type": "code",
      "metadata": {
        "id": "zJMggmKE7kYZ",
        "colab_type": "code",
        "colab": {
          "base_uri": "https://localhost:8080/",
          "height": 34
        },
        "outputId": "c9f7b537-3f62-4c4b-db32-60b0f2c86ece"
      },
      "source": [
        "#Verificando a quantidade de instâncias existem para que a qualidade seja igual a 5\n",
        "qual_5 = len(df[df['quality'] == 5])\n",
        "print('Quantidade de instâncias na qual a qualidade do vinho se refere ao fator 5:', qual_5)"
      ],
      "execution_count": 19,
      "outputs": [
        {
          "output_type": "stream",
          "text": [
            "Quantidade de instâncias na qual a qualidade do vinho se refere ao fator 5: 681\n"
          ],
          "name": "stdout"
        }
      ]
    },
    {
      "cell_type": "markdown",
      "metadata": {
        "id": "jQS2M4Hi-mYW",
        "colab_type": "text"
      },
      "source": [
        "Aplicando normalização MinMaxScaler (valores default) com os dados de entrada"
      ]
    },
    {
      "cell_type": "code",
      "metadata": {
        "id": "5uQDWTY_-uHT",
        "colab_type": "code",
        "colab": {
          "base_uri": "https://localhost:8080/",
          "height": 204
        },
        "outputId": "1b8a582b-b90e-430a-c94f-a1583a6e0d0e"
      },
      "source": [
        "#Menor valor para variável \"fixed Acidity\"\n",
        "#Efetuando a normalização dos dados e exibindo\n",
        "X = df.iloc[:,:-1]\n",
        "y = df.iloc[:,-1]\n",
        "scaler = MinMaxScaler()\n",
        "array_scaler = scaler.fit_transform(X)\n",
        "col = X.columns\n",
        "df_normalizado = pd.DataFrame(array_scaler, columns = col)\n",
        "df_normalizado.head()"
      ],
      "execution_count": 27,
      "outputs": [
        {
          "output_type": "execute_result",
          "data": {
            "text/html": [
              "<div>\n",
              "<style scoped>\n",
              "    .dataframe tbody tr th:only-of-type {\n",
              "        vertical-align: middle;\n",
              "    }\n",
              "\n",
              "    .dataframe tbody tr th {\n",
              "        vertical-align: top;\n",
              "    }\n",
              "\n",
              "    .dataframe thead th {\n",
              "        text-align: right;\n",
              "    }\n",
              "</style>\n",
              "<table border=\"1\" class=\"dataframe\">\n",
              "  <thead>\n",
              "    <tr style=\"text-align: right;\">\n",
              "      <th></th>\n",
              "      <th>fixed acidity</th>\n",
              "      <th>volatile acidity</th>\n",
              "      <th>citric acid</th>\n",
              "      <th>residual sugar</th>\n",
              "      <th>chlorides</th>\n",
              "      <th>free sulfur dioxide</th>\n",
              "      <th>total sulfur dioxide</th>\n",
              "      <th>density</th>\n",
              "      <th>pH</th>\n",
              "      <th>sulphates</th>\n",
              "      <th>alcohol</th>\n",
              "    </tr>\n",
              "  </thead>\n",
              "  <tbody>\n",
              "    <tr>\n",
              "      <th>0</th>\n",
              "      <td>0.247788</td>\n",
              "      <td>0.397260</td>\n",
              "      <td>0.00</td>\n",
              "      <td>0.068493</td>\n",
              "      <td>0.106845</td>\n",
              "      <td>0.140845</td>\n",
              "      <td>0.098940</td>\n",
              "      <td>0.567548</td>\n",
              "      <td>0.606299</td>\n",
              "      <td>0.137725</td>\n",
              "      <td>0.153846</td>\n",
              "    </tr>\n",
              "    <tr>\n",
              "      <th>1</th>\n",
              "      <td>0.283186</td>\n",
              "      <td>0.520548</td>\n",
              "      <td>0.00</td>\n",
              "      <td>0.116438</td>\n",
              "      <td>0.143573</td>\n",
              "      <td>0.338028</td>\n",
              "      <td>0.215548</td>\n",
              "      <td>0.494126</td>\n",
              "      <td>0.362205</td>\n",
              "      <td>0.209581</td>\n",
              "      <td>0.215385</td>\n",
              "    </tr>\n",
              "    <tr>\n",
              "      <th>2</th>\n",
              "      <td>0.283186</td>\n",
              "      <td>0.438356</td>\n",
              "      <td>0.04</td>\n",
              "      <td>0.095890</td>\n",
              "      <td>0.133556</td>\n",
              "      <td>0.197183</td>\n",
              "      <td>0.169611</td>\n",
              "      <td>0.508811</td>\n",
              "      <td>0.409449</td>\n",
              "      <td>0.191617</td>\n",
              "      <td>0.215385</td>\n",
              "    </tr>\n",
              "    <tr>\n",
              "      <th>3</th>\n",
              "      <td>0.584071</td>\n",
              "      <td>0.109589</td>\n",
              "      <td>0.56</td>\n",
              "      <td>0.068493</td>\n",
              "      <td>0.105175</td>\n",
              "      <td>0.225352</td>\n",
              "      <td>0.190813</td>\n",
              "      <td>0.582232</td>\n",
              "      <td>0.330709</td>\n",
              "      <td>0.149701</td>\n",
              "      <td>0.215385</td>\n",
              "    </tr>\n",
              "    <tr>\n",
              "      <th>4</th>\n",
              "      <td>0.247788</td>\n",
              "      <td>0.397260</td>\n",
              "      <td>0.00</td>\n",
              "      <td>0.068493</td>\n",
              "      <td>0.106845</td>\n",
              "      <td>0.140845</td>\n",
              "      <td>0.098940</td>\n",
              "      <td>0.567548</td>\n",
              "      <td>0.606299</td>\n",
              "      <td>0.137725</td>\n",
              "      <td>0.153846</td>\n",
              "    </tr>\n",
              "  </tbody>\n",
              "</table>\n",
              "</div>"
            ],
            "text/plain": [
              "   fixed acidity  volatile acidity  citric acid  ...        pH  sulphates   alcohol\n",
              "0       0.247788          0.397260         0.00  ...  0.606299   0.137725  0.153846\n",
              "1       0.283186          0.520548         0.00  ...  0.362205   0.209581  0.215385\n",
              "2       0.283186          0.438356         0.04  ...  0.409449   0.191617  0.215385\n",
              "3       0.584071          0.109589         0.56  ...  0.330709   0.149701  0.215385\n",
              "4       0.247788          0.397260         0.00  ...  0.606299   0.137725  0.153846\n",
              "\n",
              "[5 rows x 11 columns]"
            ]
          },
          "metadata": {
            "tags": []
          },
          "execution_count": 27
        }
      ]
    },
    {
      "cell_type": "code",
      "metadata": {
        "id": "Le2tjnVLA7B-",
        "colab_type": "code",
        "colab": {
          "base_uri": "https://localhost:8080/",
          "height": 34
        },
        "outputId": "2181d6bd-47c6-4ae8-bc0a-e6eb3c304dad"
      },
      "source": [
        "#Localizando o referido valor minímo\n",
        "df_normalizado['fixed acidity'].min()"
      ],
      "execution_count": 28,
      "outputs": [
        {
          "output_type": "execute_result",
          "data": {
            "text/plain": [
              "0.0"
            ]
          },
          "metadata": {
            "tags": []
          },
          "execution_count": 28
        }
      ]
    },
    {
      "cell_type": "markdown",
      "metadata": {
        "id": "fI36VyedBvLm",
        "colab_type": "text"
      },
      "source": [
        "Verificando acurácia e o KNN"
      ]
    },
    {
      "cell_type": "code",
      "metadata": {
        "id": "Y_26Ue_GB5nJ",
        "colab_type": "code",
        "colab": {}
      },
      "source": [
        "#Efetuando a separação dos dados em treino e teste\n",
        "X_train, X_test, Y_train, Y_test = train_test_split(df_normalizado, y, test_size = 0.3, random_state = 1)"
      ],
      "execution_count": 30,
      "outputs": []
    },
    {
      "cell_type": "code",
      "metadata": {
        "id": "s0ML6QBXC710",
        "colab_type": "code",
        "colab": {}
      },
      "source": [
        "#Calculando o KNN\n",
        "c_knn = KNeighborsClassifier(n_neighbors = 5)\n",
        "c_knn.fit(X_train, Y_train)\n",
        "y_pred = c_knn.predict(X_test)"
      ],
      "execution_count": 53,
      "outputs": []
    },
    {
      "cell_type": "code",
      "metadata": {
        "id": "Hy1wo-DAF7II",
        "colab_type": "code",
        "colab": {
          "base_uri": "https://localhost:8080/",
          "height": 34
        },
        "outputId": "9252854e-33d1-4058-94b8-a6ad0c0cd461"
      },
      "source": [
        "#Localizando Acurácia\n",
        "acuracia = accuracy_score(Y_test, y_pred)\n",
        "print('Acurácia do DataFrame:', acuracia)"
      ],
      "execution_count": 35,
      "outputs": [
        {
          "output_type": "stream",
          "text": [
            "Acurácia do DataFrame: 0.5645833333333333\n"
          ],
          "name": "stdout"
        }
      ]
    },
    {
      "cell_type": "markdown",
      "metadata": {
        "id": "KE2OmW68HQcD",
        "colab_type": "text"
      },
      "source": [
        "Aplicando árvore de Decisão"
      ]
    },
    {
      "cell_type": "code",
      "metadata": {
        "id": "8RmQjwSDHUi8",
        "colab_type": "code",
        "colab": {
          "base_uri": "https://localhost:8080/",
          "height": 34
        },
        "outputId": "10e65b19-24b9-4058-a8d8-ebd4ea6aeaa8"
      },
      "source": [
        "#Árvore de Decisão\n",
        "arvore = DecisionTreeClassifier()\n",
        "arvore.fit(X_train, Y_train)\n",
        "arvore_y = arvore.predict(X_test)\n",
        "#Localizando a Acurácia\n",
        "acuracia = accuracy_score(Y_test, arvore_y)\n",
        "print('Acurácia da Árvore de Decisão:', acuracia)"
      ],
      "execution_count": 52,
      "outputs": [
        {
          "output_type": "stream",
          "text": [
            "Acurácia da Árvore de Decisão: 0.6041666666666666\n"
          ],
          "name": "stdout"
        }
      ]
    },
    {
      "cell_type": "markdown",
      "metadata": {
        "id": "a5lCcQgtKF8G",
        "colab_type": "text"
      },
      "source": [
        "Apicando Algoritmo de Floresta Randomica"
      ]
    },
    {
      "cell_type": "code",
      "metadata": {
        "id": "J84d1dx7KMHp",
        "colab_type": "code",
        "colab": {
          "base_uri": "https://localhost:8080/",
          "height": 34
        },
        "outputId": "be1e466b-24e6-401d-a012-dfc5a7bb88b2"
      },
      "source": [
        "#Localizando acurácia para floresta randomica\n",
        "floresta = RandomForestClassifier(max_depth = 10, random_state = 1)\n",
        "floresta.fit(X_train, Y_train)\n",
        "floresta_y = floresta.predict(X_test)\n",
        "acuracia = accuracy_score(Y_test, floresta_y)\n",
        "#Exibindo Acurácia\n",
        "print('Acurádia para Floresta Randomica:', acuracia)"
      ],
      "execution_count": 49,
      "outputs": [
        {
          "output_type": "stream",
          "text": [
            "Acurádia para Floresta Randomica: 0.6791666666666667\n"
          ],
          "name": "stdout"
        }
      ]
    },
    {
      "cell_type": "markdown",
      "metadata": {
        "id": "N44zIRH_Lj8t",
        "colab_type": "text"
      },
      "source": [
        "Algoritmo SVM"
      ]
    },
    {
      "cell_type": "code",
      "metadata": {
        "id": "d7KDeNsYLoXM",
        "colab_type": "code",
        "colab": {}
      },
      "source": [
        "#Aplicando algoritmo SVM e localizando Acurácia\n",
        "svm = SVC(gamma = 'auto', kernel = 'rbf')\n",
        "svm.fit(X_train, Y_train)\n",
        "svm_y = svm.predict(X_test)\n",
        "acuracia_svm = accuracy_score(svm_y)\n",
        "#Exibindo Acurácia\n",
        "print('Acurácia do Algoritmo SVM:', acuracia_svm)"
      ],
      "execution_count": null,
      "outputs": []
    },
    {
      "cell_type": "markdown",
      "metadata": {
        "id": "37NoxOZOSa20",
        "colab_type": "text"
      },
      "source": [
        "Algoritmo MLP"
      ]
    },
    {
      "cell_type": "code",
      "metadata": {
        "id": "aCvg7Z7FSgPm",
        "colab_type": "code",
        "colab": {
          "base_uri": "https://localhost:8080/",
          "height": 88
        },
        "outputId": "b4f29e26-d351-47e6-cbc0-0d102040015d"
      },
      "source": [
        "mlp = MLPClassifier(alpha = 1e-5, hidden_layer_sizes = (5,5), random_state = 1)\n",
        "mlp.fit(X_train, Y_train)\n",
        "mlp_y = mlp.predict(X_test)\n",
        "acuracia = accuracy_score(Y_test, mlp_y)\n",
        "#Exibindo Acurácia\n",
        "print('Acurácia do Algoritmo MLP:', acuracia)"
      ],
      "execution_count": 61,
      "outputs": [
        {
          "output_type": "stream",
          "text": [
            "Acurácia do Algoritmo MLP: 0.6\n"
          ],
          "name": "stdout"
        },
        {
          "output_type": "stream",
          "text": [
            "/usr/local/lib/python3.6/dist-packages/sklearn/neural_network/_multilayer_perceptron.py:571: ConvergenceWarning: Stochastic Optimizer: Maximum iterations (200) reached and the optimization hasn't converged yet.\n",
            "  % self.max_iter, ConvergenceWarning)\n"
          ],
          "name": "stderr"
        }
      ]
    },
    {
      "cell_type": "markdown",
      "metadata": {
        "id": "4hnCxA8lWrS-",
        "colab_type": "text"
      },
      "source": [
        "Modifique o dataset para um sistema binário que considere vinhos com nota\n",
        "maior do que 5 (6, 7, 8) sejam bons e menores ou igual a 5 ruins (5, 4, 3). Aplique\n",
        "o modelo da floresta randômica"
      ]
    },
    {
      "cell_type": "code",
      "metadata": {
        "id": "e2cR09FKWwIh",
        "colab_type": "code",
        "colab": {
          "base_uri": "https://localhost:8080/",
          "height": 204
        },
        "outputId": "6ce0571b-bfb9-45c5-fbf8-c060ccb55d3f"
      },
      "source": [
        "#Efetuando a cópia do DataFrame\n",
        "df_modificado = df.copy()\n",
        "df_modificado.head()"
      ],
      "execution_count": 64,
      "outputs": [
        {
          "output_type": "execute_result",
          "data": {
            "text/html": [
              "<div>\n",
              "<style scoped>\n",
              "    .dataframe tbody tr th:only-of-type {\n",
              "        vertical-align: middle;\n",
              "    }\n",
              "\n",
              "    .dataframe tbody tr th {\n",
              "        vertical-align: top;\n",
              "    }\n",
              "\n",
              "    .dataframe thead th {\n",
              "        text-align: right;\n",
              "    }\n",
              "</style>\n",
              "<table border=\"1\" class=\"dataframe\">\n",
              "  <thead>\n",
              "    <tr style=\"text-align: right;\">\n",
              "      <th></th>\n",
              "      <th>fixed acidity</th>\n",
              "      <th>volatile acidity</th>\n",
              "      <th>citric acid</th>\n",
              "      <th>residual sugar</th>\n",
              "      <th>chlorides</th>\n",
              "      <th>free sulfur dioxide</th>\n",
              "      <th>total sulfur dioxide</th>\n",
              "      <th>density</th>\n",
              "      <th>pH</th>\n",
              "      <th>sulphates</th>\n",
              "      <th>alcohol</th>\n",
              "      <th>quality</th>\n",
              "    </tr>\n",
              "  </thead>\n",
              "  <tbody>\n",
              "    <tr>\n",
              "      <th>0</th>\n",
              "      <td>7.4</td>\n",
              "      <td>0.70</td>\n",
              "      <td>0.00</td>\n",
              "      <td>1.9</td>\n",
              "      <td>0.076</td>\n",
              "      <td>11.0</td>\n",
              "      <td>34.0</td>\n",
              "      <td>0.9978</td>\n",
              "      <td>3.51</td>\n",
              "      <td>0.56</td>\n",
              "      <td>9.4</td>\n",
              "      <td>5</td>\n",
              "    </tr>\n",
              "    <tr>\n",
              "      <th>1</th>\n",
              "      <td>7.8</td>\n",
              "      <td>0.88</td>\n",
              "      <td>0.00</td>\n",
              "      <td>2.6</td>\n",
              "      <td>0.098</td>\n",
              "      <td>25.0</td>\n",
              "      <td>67.0</td>\n",
              "      <td>0.9968</td>\n",
              "      <td>3.20</td>\n",
              "      <td>0.68</td>\n",
              "      <td>9.8</td>\n",
              "      <td>5</td>\n",
              "    </tr>\n",
              "    <tr>\n",
              "      <th>2</th>\n",
              "      <td>7.8</td>\n",
              "      <td>0.76</td>\n",
              "      <td>0.04</td>\n",
              "      <td>2.3</td>\n",
              "      <td>0.092</td>\n",
              "      <td>15.0</td>\n",
              "      <td>54.0</td>\n",
              "      <td>0.9970</td>\n",
              "      <td>3.26</td>\n",
              "      <td>0.65</td>\n",
              "      <td>9.8</td>\n",
              "      <td>5</td>\n",
              "    </tr>\n",
              "    <tr>\n",
              "      <th>3</th>\n",
              "      <td>11.2</td>\n",
              "      <td>0.28</td>\n",
              "      <td>0.56</td>\n",
              "      <td>1.9</td>\n",
              "      <td>0.075</td>\n",
              "      <td>17.0</td>\n",
              "      <td>60.0</td>\n",
              "      <td>0.9980</td>\n",
              "      <td>3.16</td>\n",
              "      <td>0.58</td>\n",
              "      <td>9.8</td>\n",
              "      <td>6</td>\n",
              "    </tr>\n",
              "    <tr>\n",
              "      <th>4</th>\n",
              "      <td>7.4</td>\n",
              "      <td>0.70</td>\n",
              "      <td>0.00</td>\n",
              "      <td>1.9</td>\n",
              "      <td>0.076</td>\n",
              "      <td>11.0</td>\n",
              "      <td>34.0</td>\n",
              "      <td>0.9978</td>\n",
              "      <td>3.51</td>\n",
              "      <td>0.56</td>\n",
              "      <td>9.4</td>\n",
              "      <td>5</td>\n",
              "    </tr>\n",
              "  </tbody>\n",
              "</table>\n",
              "</div>"
            ],
            "text/plain": [
              "   fixed acidity  volatile acidity  citric acid  ...  sulphates  alcohol  quality\n",
              "0            7.4              0.70         0.00  ...       0.56      9.4        5\n",
              "1            7.8              0.88         0.00  ...       0.68      9.8        5\n",
              "2            7.8              0.76         0.04  ...       0.65      9.8        5\n",
              "3           11.2              0.28         0.56  ...       0.58      9.8        6\n",
              "4            7.4              0.70         0.00  ...       0.56      9.4        5\n",
              "\n",
              "[5 rows x 12 columns]"
            ]
          },
          "metadata": {
            "tags": []
          },
          "execution_count": 64
        }
      ]
    },
    {
      "cell_type": "code",
      "metadata": {
        "id": "6FseInAuXDK6",
        "colab_type": "code",
        "colab": {
          "base_uri": "https://localhost:8080/",
          "height": 204
        },
        "outputId": "0c21f68c-d574-4494-a589-5ce9abd51f84"
      },
      "source": [
        "#Segmentando os dados\n",
        "Novo_X = df_modificado.iloc[:,:11]\n",
        "Novo_y = df_modificado.quality\n",
        "#Dicionario de Valores\n",
        "Novo_Y = Novo_y.replace({6:1,7:1,8:1,5:0,4:0,3:0})\n",
        "#Efetuando Normalização\n",
        "new_scaler = MinMaxScaler()\n",
        "new_array = new_scaler.fit_transform(Novo_X)\n",
        "df_new = pd.DataFrame(new_array, columns = Novo_X.columns)\n",
        "#Exibindo DataFrame modificado\n",
        "df_new.head()"
      ],
      "execution_count": 70,
      "outputs": [
        {
          "output_type": "execute_result",
          "data": {
            "text/html": [
              "<div>\n",
              "<style scoped>\n",
              "    .dataframe tbody tr th:only-of-type {\n",
              "        vertical-align: middle;\n",
              "    }\n",
              "\n",
              "    .dataframe tbody tr th {\n",
              "        vertical-align: top;\n",
              "    }\n",
              "\n",
              "    .dataframe thead th {\n",
              "        text-align: right;\n",
              "    }\n",
              "</style>\n",
              "<table border=\"1\" class=\"dataframe\">\n",
              "  <thead>\n",
              "    <tr style=\"text-align: right;\">\n",
              "      <th></th>\n",
              "      <th>fixed acidity</th>\n",
              "      <th>volatile acidity</th>\n",
              "      <th>citric acid</th>\n",
              "      <th>residual sugar</th>\n",
              "      <th>chlorides</th>\n",
              "      <th>free sulfur dioxide</th>\n",
              "      <th>total sulfur dioxide</th>\n",
              "      <th>density</th>\n",
              "      <th>pH</th>\n",
              "      <th>sulphates</th>\n",
              "      <th>alcohol</th>\n",
              "    </tr>\n",
              "  </thead>\n",
              "  <tbody>\n",
              "    <tr>\n",
              "      <th>0</th>\n",
              "      <td>0.247788</td>\n",
              "      <td>0.397260</td>\n",
              "      <td>0.00</td>\n",
              "      <td>0.068493</td>\n",
              "      <td>0.106845</td>\n",
              "      <td>0.140845</td>\n",
              "      <td>0.098940</td>\n",
              "      <td>0.567548</td>\n",
              "      <td>0.606299</td>\n",
              "      <td>0.137725</td>\n",
              "      <td>0.153846</td>\n",
              "    </tr>\n",
              "    <tr>\n",
              "      <th>1</th>\n",
              "      <td>0.283186</td>\n",
              "      <td>0.520548</td>\n",
              "      <td>0.00</td>\n",
              "      <td>0.116438</td>\n",
              "      <td>0.143573</td>\n",
              "      <td>0.338028</td>\n",
              "      <td>0.215548</td>\n",
              "      <td>0.494126</td>\n",
              "      <td>0.362205</td>\n",
              "      <td>0.209581</td>\n",
              "      <td>0.215385</td>\n",
              "    </tr>\n",
              "    <tr>\n",
              "      <th>2</th>\n",
              "      <td>0.283186</td>\n",
              "      <td>0.438356</td>\n",
              "      <td>0.04</td>\n",
              "      <td>0.095890</td>\n",
              "      <td>0.133556</td>\n",
              "      <td>0.197183</td>\n",
              "      <td>0.169611</td>\n",
              "      <td>0.508811</td>\n",
              "      <td>0.409449</td>\n",
              "      <td>0.191617</td>\n",
              "      <td>0.215385</td>\n",
              "    </tr>\n",
              "    <tr>\n",
              "      <th>3</th>\n",
              "      <td>0.584071</td>\n",
              "      <td>0.109589</td>\n",
              "      <td>0.56</td>\n",
              "      <td>0.068493</td>\n",
              "      <td>0.105175</td>\n",
              "      <td>0.225352</td>\n",
              "      <td>0.190813</td>\n",
              "      <td>0.582232</td>\n",
              "      <td>0.330709</td>\n",
              "      <td>0.149701</td>\n",
              "      <td>0.215385</td>\n",
              "    </tr>\n",
              "    <tr>\n",
              "      <th>4</th>\n",
              "      <td>0.247788</td>\n",
              "      <td>0.397260</td>\n",
              "      <td>0.00</td>\n",
              "      <td>0.068493</td>\n",
              "      <td>0.106845</td>\n",
              "      <td>0.140845</td>\n",
              "      <td>0.098940</td>\n",
              "      <td>0.567548</td>\n",
              "      <td>0.606299</td>\n",
              "      <td>0.137725</td>\n",
              "      <td>0.153846</td>\n",
              "    </tr>\n",
              "  </tbody>\n",
              "</table>\n",
              "</div>"
            ],
            "text/plain": [
              "   fixed acidity  volatile acidity  citric acid  ...        pH  sulphates   alcohol\n",
              "0       0.247788          0.397260         0.00  ...  0.606299   0.137725  0.153846\n",
              "1       0.283186          0.520548         0.00  ...  0.362205   0.209581  0.215385\n",
              "2       0.283186          0.438356         0.04  ...  0.409449   0.191617  0.215385\n",
              "3       0.584071          0.109589         0.56  ...  0.330709   0.149701  0.215385\n",
              "4       0.247788          0.397260         0.00  ...  0.606299   0.137725  0.153846\n",
              "\n",
              "[5 rows x 11 columns]"
            ]
          },
          "metadata": {
            "tags": []
          },
          "execution_count": 70
        }
      ]
    },
    {
      "cell_type": "code",
      "metadata": {
        "id": "XFbqX0V6aUp0",
        "colab_type": "code",
        "colab": {
          "base_uri": "https://localhost:8080/",
          "height": 34
        },
        "outputId": "14b59941-990a-49ca-9718-45eb852418d9"
      },
      "source": [
        "#Separando dados para Treino e Teste\n",
        "X_train, X_test, Y_train, Y_test = train_test_split(new_array, Novo_Y, test_size = 0.3, random_state = 1)\n",
        "#Aplicando o RandomFlorest\n",
        "florest = RandomForestClassifier(max_depth = 10, random_state = 1)\n",
        "florest.fit(X_train, Y_train)\n",
        "florest_y = florest.predict(X_test)\n",
        "acuracia = accuracy_score(Y_test, floresta_y)\n",
        "print('Acuracia da Floresta Randomica:', acuracia)"
      ],
      "execution_count": 75,
      "outputs": [
        {
          "output_type": "stream",
          "text": [
            "Acuracia da Floresta Randomica: 0.0\n"
          ],
          "name": "stdout"
        }
      ]
    }
  ]
}